{
 "cells": [
  {
   "attachments": {},
   "cell_type": "markdown",
   "metadata": {},
   "source": [
    "# NLP Assignment 2\n",
    "### Paarth Iyer\n",
    "### MCS202218"
   ]
  },
  {
   "cell_type": "code",
   "execution_count": 1,
   "metadata": {},
   "outputs": [],
   "source": [
    "from collections import Counter, defaultdict\n",
    "\n",
    "from nltk import ngrams, word_tokenize, sent_tokenize\n",
    "from nltk.corpus import stopwords\n",
    "\n",
    "import scipy\n",
    "from scipy.sparse import dok_matrix, csr_matrix\n",
    "from scipy.spatial.distance import euclidean\n",
    "\n",
    "import numpy as np\n",
    "\n",
    "import joblib   # saving and loading files\n",
    "from tqdm import tqdm\n",
    "import gc\n",
    "\n",
    "# directory for storing data\n",
    "stores = \"./model/\""
   ]
  },
  {
   "attachments": {},
   "cell_type": "markdown",
   "metadata": {},
   "source": [
    "# Preprocessing"
   ]
  },
  {
   "attachments": {},
   "cell_type": "markdown",
   "metadata": {},
   "source": [
    "Same corpus that was used in the previous assignment was used with some additional preprocessing being lemmatization of all the words"
   ]
  },
  {
   "attachments": {},
   "cell_type": "markdown",
   "metadata": {},
   "source": [
    "# Building vocab"
   ]
  },
  {
   "attachments": {},
   "cell_type": "markdown",
   "metadata": {},
   "source": [
    "Using the code from previous assignment to count the frequencies of all the words. This will also give the vocabulary."
   ]
  },
  {
   "cell_type": "code",
   "execution_count": null,
   "metadata": {},
   "outputs": [],
   "source": [
    "# function to generate all the unigrams from the file given\n",
    "def gen_unigrams(file):\n",
    "    x = Counter()   # Counter to store unigrams\n",
    "    with open(file, 'r',encoding=\"utf-8\") as f:\n",
    "        for line in tqdm(f.readlines()):  # going line by line\n",
    "             for sent in sent_tokenize(line): # extract sentences from each line\n",
    "                x.update([i[0] for i in ngrams(word_tokenize(sent), 1)])  # create unigrams and add them to counter\n",
    "    return x"
   ]
  },
  {
   "cell_type": "code",
   "execution_count": null,
   "metadata": {},
   "outputs": [
    {
     "name": "stderr",
     "output_type": "stream",
     "text": [
      "100%|██████████| 56528/56528 [25:08<00:00, 37.46it/s]  \n"
     ]
    }
   ],
   "source": [
    "# will count frequencies of all the words and will give the vocab\n",
    "vocab_counts = gen_unigrams(\"corpus.txt\")"
   ]
  },
  {
   "cell_type": "code",
   "execution_count": 39,
   "metadata": {},
   "outputs": [
    {
     "data": {
      "text/plain": [
       "['./model/corpus_tokens.pickle']"
      ]
     },
     "execution_count": 39,
     "metadata": {},
     "output_type": "execute_result"
    }
   ],
   "source": [
    "# dumping this into a pickle file for future use\n",
    "joblib.dump(vocab_counts, stores+'corpus_tokens.pickle')\n",
    "\n",
    "# ['./model/corpus_tokens.pickle']"
   ]
  },
  {
   "cell_type": "code",
   "execution_count": 85,
   "metadata": {},
   "outputs": [],
   "source": [
    "# code block to load the file\n",
    "vocab_counts = joblib.load(stores+'corpus_tokens.pickle')"
   ]
  },
  {
   "cell_type": "code",
   "execution_count": 40,
   "metadata": {},
   "outputs": [
    {
     "name": "stdout",
     "output_type": "stream",
     "text": [
      "Size of vocab is 1976778\n"
     ]
    }
   ],
   "source": [
    "# the size of vocab will be the number of entries in vocab_counts\n",
    "print(\"Size of vocab is\",len(vocab_counts))"
   ]
  },
  {
   "attachments": {},
   "cell_type": "markdown",
   "metadata": {},
   "source": [
    "Going with a vocab of size around 38k does not give a memory error. I tried to make a matrix with a vocab which has words whose frequency is more than 50, but it ran into a memory error."
   ]
  },
  {
   "cell_type": "code",
   "execution_count": 92,
   "metadata": {},
   "outputs": [
    {
     "data": {
      "text/plain": [
       "['./model/vocab.pickle']"
      ]
     },
     "execution_count": 92,
     "metadata": {},
     "output_type": "execute_result"
    }
   ],
   "source": [
    "# compiling a set of stop words\n",
    "stp = set(stopwords.words('english') + stopwords.words('german') + stopwords.words('french'))\n",
    "\n",
    "# creating a new vocab where only the words which are not stopwords and occur more\n",
    "# than 100 times are considered\n",
    "vocab = {x for x, count in vocab_counts.items() if count >= 100 and x not in stp}\n",
    "\n",
    "# dumping the set\n",
    "joblib.dump(vocab,stores+\"vocab.pickle\")"
   ]
  },
  {
   "cell_type": "code",
   "execution_count": 89,
   "metadata": {},
   "outputs": [
    {
     "name": "stdout",
     "output_type": "stream",
     "text": [
      "Size of reduced vocab is 37901\n"
     ]
    }
   ],
   "source": [
    "# size of the new generated vocab\n",
    "print(\"Size of reduced vocab is\",len(vocab))"
   ]
  },
  {
   "attachments": {},
   "cell_type": "markdown",
   "metadata": {},
   "source": [
    "Creating a dictionary which will act as an index, where the keys will be numbers and words where the values are the corresponding word and number respectively."
   ]
  },
  {
   "cell_type": "code",
   "execution_count": 10,
   "metadata": {},
   "outputs": [],
   "source": [
    "# this part is used to create an index for the vocab where each word is given a number\n",
    "# and also a corresponding number for the word \n",
    "\n",
    "# number to word\n",
    "vocab_list = list(vocab.keys())\n",
    "\n",
    "# corresponding word to number\n",
    "vocab_pos = {vocab_list[i] : i for i in range(len(vocab_list))}\n",
    "\n",
    "# compiling both into a dictionary\n",
    "vocab_idx = vocab_pos.copy()\n",
    "vocab_idx.update({i : w for i,w in enumerate(vocab_list)})"
   ]
  },
  {
   "cell_type": "code",
   "execution_count": 11,
   "metadata": {},
   "outputs": [
    {
     "data": {
      "text/plain": [
       "['./model/vocab_idx.pickle']"
      ]
     },
     "execution_count": 11,
     "metadata": {},
     "output_type": "execute_result"
    }
   ],
   "source": [
    "# dumping th edictionary for future use\n",
    "joblib.dump(vocab_idx,stores+'vocab_idx.pickle')"
   ]
  },
  {
   "cell_type": "code",
   "execution_count": 12,
   "metadata": {},
   "outputs": [
    {
     "data": {
      "text/plain": [
       "0"
      ]
     },
     "execution_count": 12,
     "metadata": {},
     "output_type": "execute_result"
    }
   ],
   "source": [
    "# some cleanup\n",
    "del vocab_counts\n",
    "del vocab_list\n",
    "del vocab_pos\n",
    "gc.collect()"
   ]
  },
  {
   "attachments": {},
   "cell_type": "markdown",
   "metadata": {},
   "source": [
    "# Building Co-occurance matrix"
   ]
  },
  {
   "cell_type": "code",
   "execution_count": 2,
   "metadata": {},
   "outputs": [],
   "source": [
    "# loading the index and vocab\n",
    "vocab_idx = joblib.load(stores+'vocab_idx.pickle')\n",
    "vocab = joblib.load(stores+'vocab.pickle')"
   ]
  },
  {
   "attachments": {},
   "cell_type": "markdown",
   "metadata": {},
   "source": [
    "The function below returns a co-occurance matrix, which is in the format of a compressed sparse row matrix (scipy csr matrix).\n",
    "\n",
    "It will first create a defaultdict of counters, which will keep track of co-occurances where the ith index of the defaultdict corresponds to a counter which acts as a sparse vector of the word at the ith index.\n",
    "\n",
    "Then it creates an empty dok matrix and populates it the entries in the above defaultdict.\n",
    "\n",
    "Finally, it converts the dok matrix to a csr matrix and returns it."
   ]
  },
  {
   "cell_type": "code",
   "execution_count": 41,
   "metadata": {},
   "outputs": [],
   "source": [
    "def co_occurances(file):\n",
    "    window = 10\n",
    "\n",
    "    # creates a ramp given a window size\n",
    "    ramp = [0] + [*range(window,0,-1)]     # ramp = [0,10,9,8,7,6,4,3,2,1]\n",
    "\n",
    "    # keeps track of co-occurances\n",
    "    occurances = defaultdict(lambda : Counter())\n",
    "\n",
    "    with open(file, 'r',encoding=\"utf-8\") as corpus:\n",
    "\n",
    "        # iterate through all the lines (each line corresponds to one article)\n",
    "        for line in tqdm(corpus.readlines()):\n",
    "\n",
    "            # list of all n-grams in the line, where n = window+1. Added padding so that all the possible\n",
    "            # co-occurances are listed\n",
    "            all_grams = ngrams(word_tokenize(line), window+1, pad_right = True, pad_left = True)\n",
    "            \n",
    "            # going through each n-gram\n",
    "            for grams in all_grams:\n",
    "\n",
    "                # will proceed only if gram[0] is in the vocab.\n",
    "                # non vocab words are not removed so that the vocab words don't clump together\n",
    "                if grams[0] in vocab :\n",
    "                    for idx, gram in enumerate(grams):\n",
    "                        if gram in vocab:\n",
    "                            # increase the co-occurance according to the distance between the words\n",
    "                            occurances[vocab_idx[grams[0]]][vocab_idx[gram]] += ramp[idx]\n",
    "\n",
    "                # Doing the same as above with the gram reversed\n",
    "                grams_rev = grams[::-1]\n",
    "\n",
    "                if grams_rev[0] in vocab:\n",
    "                    for idx, gram in enumerate(grams_rev):\n",
    "                        if gram in vocab:\n",
    "                            occurances[vocab_idx[grams_rev[0]]][vocab_idx[gram]] += ramp[idx]\n",
    "\n",
    "    # create an empty sparse matrix\n",
    "    mat = dok_matrix((len(vocab), len(vocab)), dtype=np.int64)\n",
    "\n",
    "    # populate the matrix\n",
    "    for i in tqdm(range(len(vocab))):\n",
    "        for j in occurances[i].keys():\n",
    "            mat[i,j] = occurances[i][j]\n",
    "\n",
    "    # convert to csr matrix and return it\n",
    "    return mat.tocsr()"
   ]
  },
  {
   "cell_type": "code",
   "execution_count": 1,
   "metadata": {},
   "outputs": [
    {
     "name": "stdout",
     "output_type": "stream",
     "text": [
      "100%|██████████| 56528/56528 [56:28<00:00, 16.68it/s]\n",
      "100%|██████████| 37901/37901 [14:33<00:00, 43.37it/s] \n"
     ]
    }
   ],
   "source": [
    "halmat = co_occurances(\"corpus.txt\")"
   ]
  },
  {
   "cell_type": "code",
   "execution_count": 9,
   "metadata": {},
   "outputs": [],
   "source": [
    "# dump for future use\n",
    "joblib.dump(halmat,stores+\"vec_matrix.pickle\")"
   ]
  },
  {
   "cell_type": "code",
   "execution_count": 3,
   "metadata": {},
   "outputs": [],
   "source": [
    "halmat = joblib.load(stores+'vec_matrix.pickle')"
   ]
  },
  {
   "cell_type": "code",
   "execution_count": 5,
   "metadata": {},
   "outputs": [],
   "source": [
    "# Given two words, take their index, take those rows from the sparse matrix, \n",
    "# convert that into an array and flatten it. Then normalize those and take \n",
    "# the euclidean distance between those two vectors\n",
    "def word_dist(x, y):\n",
    "    a1 = halmat[vocab_idx[x],:].toarray().flatten()\n",
    "    a2 = halmat[vocab_idx[y],:].toarray().flatten()\n",
    "    return euclidean(a1/np.linalg.norm(a1), a2/np.linalg.norm(a2))"
   ]
  },
  {
   "cell_type": "code",
   "execution_count": 6,
   "metadata": {},
   "outputs": [
    {
     "data": {
      "text/plain": [
       "0.2996810886398755"
      ]
     },
     "execution_count": 6,
     "metadata": {},
     "output_type": "execute_result"
    }
   ],
   "source": [
    "# an example\n",
    "word_dist('dog', 'horse')"
   ]
  },
  {
   "attachments": {},
   "cell_type": "markdown",
   "metadata": {},
   "source": [
    "This function will find the k closest words to the given word. \n",
    "\n",
    "The norms of all the vectors are pre calculated\n",
    "\n",
    "It calculates the vector of the given word and then loops through all the words in the vocab, create their vectors and find the distance and add that to a dist list along with the word. \n",
    "\n",
    "Then we sort the list with the distance and return the top k elements remopving the first one (as that will be the word itself)"
   ]
  },
  {
   "cell_type": "code",
   "execution_count": 4,
   "metadata": {},
   "outputs": [],
   "source": [
    "# precomputing the norms of all the vectors\n",
    "norms = [(lambda x: np.linalg.norm(halmat[x,:].toarray().flatten()))(x) for x in range(len(vocab))]\n",
    "\n",
    "def closest_words(x, k=10):\n",
    "    a1 = halmat[vocab_idx[x],:].toarray().flatten()\n",
    "    a1 = a1/norms[vocab_idx[x]]  # vector of the target word\n",
    "\n",
    "    dists = [(i, euclidean(a1, halmat[vocab_idx[i],:].toarray().flatten()/norms[vocab_idx[i]])) for i in tqdm(vocab)]\n",
    "\n",
    "    dists.sort(key= lambda x:x[1])\n",
    "\n",
    "    return dists[1:(k+1)]"
   ]
  },
  {
   "cell_type": "code",
   "execution_count": 5,
   "metadata": {},
   "outputs": [],
   "source": [
    "# some more imports for the plot\n",
    "\n",
    "from sklearn.manifold import TSNE\n",
    "import matplotlib.pyplot as plt\n",
    "from adjustText import adjust_text\n"
   ]
  },
  {
   "attachments": {},
   "cell_type": "markdown",
   "metadata": {},
   "source": [
    "### Functions to output the table and plot"
   ]
  },
  {
   "cell_type": "code",
   "execution_count": 6,
   "metadata": {},
   "outputs": [],
   "source": [
    "# A function to format the similar words and print the results in a table\n",
    "def print_similar(similar):\n",
    "\n",
    "    max_len = max(len(max(np.array(similar).flatten(), key = len)), 12)\n",
    "\n",
    "    # creating column names\n",
    "    col_names = ['Target'] + ['n'+str(i) for i in range(1,len(similar[0]))]\n",
    "\n",
    "    # formatting and printing them so that the names are centered\n",
    "    print((\"| {:^{maxl}} \"*len(col_names)+\"|\").format(*col_names, maxl=max_len))\n",
    "\n",
    "    # The seperator\n",
    "    seperator = (\"+-{:^{maxl}}-\"*len(col_names)+\"+\").format(*[\"-\"*max_len for _ in range(len(col_names))], maxl = max_len)\n",
    "    print(seperator)\n",
    "\n",
    "    for ws in similar:\n",
    "        # formatting and printing each list\n",
    "        print((\"| {:<{maxl}} \"*len(col_names)+\"|\").format(*ws, maxl = max_len))\n",
    "        print(seperator)"
   ]
  },
  {
   "cell_type": "code",
   "execution_count": 7,
   "metadata": {},
   "outputs": [],
   "source": [
    "# will plot the list of lists of the similar words to the nouns\n",
    "def plot_similar(sim):\n",
    "\n",
    "    # some initializations\n",
    "    k = len(sim[0])\n",
    "    num_clusters = len(sim)\n",
    "    sim = np.array(sim).flatten()\n",
    "\n",
    "    # list of word vectors for all the words in the similar list\n",
    "    pts = np.array([(lambda a2:a2/np.linalg.norm(a2))(halmat[vocab_idx[w],:].toarray().flatten()) for w in sim])\n",
    "\n",
    "    # Applying t-SNE with the perplexity set to the number of words in 'nouns' \n",
    "    pts_emb = TSNE(n_components=2, learning_rate='auto',init='random', perplexity=num_clusters).fit_transform(pts)\n",
    "\n",
    "    # Taking transpose of the above\n",
    "    pts_emb = [list(i) for i in zip(*pts_emb)]\n",
    "    X = pts_emb[0];Y = pts_emb[1]\n",
    "\n",
    "    # Generating num_clusters number of random colours\n",
    "    clrs = [np.random.random(3) for _ in range(num_clusters)]\n",
    "    clrs = sum([[x]*k for x in clrs],[])  # Expanding to give colour to each point\n",
    "\n",
    "    plt.figure(figsize=(8,6), dpi=120)\n",
    "\n",
    "    plt.scatter(X,Y, s= 10,c = np.array(clrs))\n",
    "    plt.axis('off')\n",
    "\n",
    "    # Adding label to each point\n",
    "    texts = [plt.text(X[i], Y[i], txt, size = 6.5) for i, txt in enumerate(sim)]\n",
    "    adjust_text(texts) # Adjust text to make it readable\n"
   ]
  },
  {
   "attachments": {},
   "cell_type": "markdown",
   "metadata": {},
   "source": [
    "# Results"
   ]
  },
  {
   "attachments": {},
   "cell_type": "markdown",
   "metadata": {},
   "source": [
    "The nouns picked : "
   ]
  },
  {
   "cell_type": "code",
   "execution_count": 25,
   "metadata": {},
   "outputs": [],
   "source": [
    "nouns = ['bread', 'monitor', 'chicken', 'ibuprofen']"
   ]
  },
  {
   "attachments": {},
   "cell_type": "markdown",
   "metadata": {},
   "source": [
    "Computing the similar words and putting them in a list of list of similar words, where the first word is the target word"
   ]
  },
  {
   "cell_type": "code",
   "execution_count": 26,
   "metadata": {},
   "outputs": [
    {
     "name": "stderr",
     "output_type": "stream",
     "text": [
      "100%|██████████| 37901/37901 [00:08<00:00, 4539.55it/s]\n",
      "100%|██████████| 37901/37901 [00:08<00:00, 4448.22it/s]\n",
      "100%|██████████| 37901/37901 [00:08<00:00, 4488.23it/s]\n",
      "100%|██████████| 37901/37901 [00:08<00:00, 4440.40it/s]\n"
     ]
    }
   ],
   "source": [
    "similar = []\n",
    "for w in nouns:\n",
    "    similar.append([w]+[x for x,_ in closest_words(w, k=5)])"
   ]
  },
  {
   "cell_type": "code",
   "execution_count": 29,
   "metadata": {},
   "outputs": [
    {
     "name": "stdout",
     "output_type": "stream",
     "text": [
      "|    Target     |      n1       |      n2       |      n3       |      n4       |      n5       |      n6       |      n7       |      n8       |      n9       |      n10      |\n",
      "+---------------+---------------+---------------+---------------+---------------+---------------+---------------+---------------+---------------+---------------+---------------+\n",
      "| bread         | grain         | cereal        | cook          | meat          | eat           | food          | beer          | rice          | flavor        | berry         |\n",
      "+---------------+---------------+---------------+---------------+---------------+---------------+---------------+---------------+---------------+---------------+---------------+\n",
      "| monitor       | monitoring    | evaluation    | track         | appropriate   | measure       | whilst        | follow        | initially     | instead       | treatment     |\n",
      "+---------------+---------------+---------------+---------------+---------------+---------------+---------------+---------------+---------------+---------------+---------------+\n",
      "| chicken       | chick         | egg           | embryo        | isolate       | subsequently  | strain        | human         | mouse         | turkey        | detect        |\n",
      "+---------------+---------------+---------------+---------------+---------------+---------------+---------------+---------------+---------------+---------------+---------------+\n",
      "| ibuprofen     | nsaid         | paracetamol   | acetaminophen | medication    | aspirin       | colchicine    | opioids       | statin        | drug          | analgesic     |\n",
      "+---------------+---------------+---------------+---------------+---------------+---------------+---------------+---------------+---------------+---------------+---------------+\n"
     ]
    },
    {
     "data": {
      "image/png": "[encoded data removed]",
      "text/plain": [
       "<Figure size 960x720 with 1 Axes>"
      ]
     },
     "metadata": {},
     "output_type": "display_data"
    }
   ],
   "source": [
    "print_similar(similar)\n",
    "plot_similar(similar)"
   ]
  },
  {
   "attachments": {},
   "cell_type": "markdown",
   "metadata": {},
   "source": [
    "The words picked, titanium, keyboard, delhi and dog, have the shown similar words.\n",
    "\n",
    "When they are plotted, it can be seen that the words similar to delhi, which are locations, cluster together far away from other points. \n",
    "\n",
    "Similarly, the words similar to dog, which are animal related, cluster together away from other points.\n",
    "\n",
    "The clusters formed by the words siilar to titanium and keyboard are close together, as they both relate to technology and technological terms."
   ]
  }
 ],
 "metadata": {
  "kernelspec": {
   "display_name": "Python 3",
   "language": "python",
   "name": "python3"
  },
  "language_info": {
   "codemirror_mode": {
    "name": "ipython",
    "version": 3
   },
   "file_extension": ".py",
   "mimetype": "text/x-python",
   "name": "python",
   "nbconvert_exporter": "python",
   "pygments_lexer": "ipython3",
   "version": "3.10.7"
  },
  "orig_nbformat": 4
 },
 "nbformat": 4,
 "nbformat_minor": 2
}
